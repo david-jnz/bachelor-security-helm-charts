{
 "cells": [
  {
   "cell_type": "code",
   "execution_count": null,
   "id": "44cf2cdb",
   "metadata": {},
   "outputs": [],
   "source": [
    "from pymongo import MongoClient\n",
    "import logging\n",
    "\n",
    "# Configure logging\n",
    "logging.basicConfig(filename='analysis_log.txt', level=logging.INFO, format='%(asctime)s - %(levelname)s - %(message)s')\n",
    "\n",
    "client = MongoClient(\"mongodb://localhost:27017/\")\n",
    "db = client.bachelor"
   ]
  },
  {
   "cell_type": "code",
   "execution_count": null,
   "id": "e90c50e8",
   "metadata": {},
   "outputs": [
    {
     "name": "stdout",
     "output_type": "stream",
     "text": [
      "Packages with security report: 55.90%\n",
      "Packages with security report: 7970 of 14257\n"
     ]
    }
   ],
   "source": [
    "# Wie viel Prozent der Packages haben einen Security Report?\n",
    "packages_with_security_report_count = db.packages.count_documents({'security_report_summary': {'$exists': True}})\n",
    "packages_with_security_report_percentage = (packages_with_security_report_count / packages_count) * 100 if packages_count > 0 else 0\n",
    "print(f\"Packages with security report: {packages_with_security_report_percentage:.2f}%\")\n",
    "print(f\"Packages with security report: {packages_with_security_report_count} of {packages_count}\")"
   ]
  },
  {
   "cell_type": "code",
   "execution_count": 15,
   "id": "19752b11",
   "metadata": {},
   "outputs": [
    {
     "name": "stdout",
     "output_type": "stream",
     "text": [
      "Anzahl der Packages in den Top 20% (nach Subscriptions): 2851\n",
      "Anzahl davon mit einem Security Report: 1811\n",
      "Prozentsatz der Top 20% Packages mit einem Security Report: 63.52%\n"
     ]
    }
   ],
   "source": [
    "# Top 20% der Helm Charts -> Wie viel Prozent haben einen Security Report?\n",
    "packages_cursor = db.packages.find({}, {\n",
    "    'package_id': 1, \n",
    "    'stats.subscriptions': 1, \n",
    "    'security_report_summary': 1\n",
    "})\n",
    "\n",
    "package_list = []\n",
    "for pkg in packages_cursor:\n",
    "    package_list.append({\n",
    "        'package_id': pkg.get('package_id'),\n",
    "        'subscriptions': pkg.get('stats', {}).get('subscriptions', 0),\n",
    "        'has_security_report': 'security_report_summary' in pkg and pkg['security_report_summary'] is not None\n",
    "    })\n",
    "\n",
    "sorted_packages = sorted(package_list, key=lambda x: x['subscriptions'], reverse=True)\n",
    "\n",
    "top_20_percent_index = int(len(sorted_packages) * 0.20)\n",
    "top_20_packages = sorted_packages[:top_20_percent_index]\n",
    "\n",
    "count_with_report_in_top_20 = sum(1 for pkg in top_20_packages if pkg['has_security_report'])\n",
    "\n",
    "if top_20_percent_index > 0:\n",
    "    percentage_with_report_in_top_20 = (count_with_report_in_top_20 / top_20_percent_index) * 100\n",
    "else:\n",
    "    percentage_with_report_in_top_20 = 0\n",
    "\n",
    "print(f\"Anzahl der Packages in den Top 20% (nach Subscriptions): {top_20_percent_index}\")\n",
    "print(f\"Anzahl davon mit einem Security Report: {count_with_report_in_top_20}\")\n",
    "print(f\"Prozentsatz der Top 20% Packages mit einem Security Report: {percentage_with_report_in_top_20:.2f}%\")"
   ]
  },
  {
   "cell_type": "code",
   "execution_count": null,
   "id": "e87effc8",
   "metadata": {},
   "outputs": [
    {
     "name": "stdout",
     "output_type": "stream",
     "text": [
      "Packages with no vulnerabilities in any category: 363\n"
     ]
    }
   ],
   "source": [
    "# Wie viele haben keine einzige Schwachstelle?\n",
    "packages_with_no_vulnerabilities_count = db.packages.count_documents({\n",
    "    'security_report_summary.critical': 0,\n",
    "    'security_report_summary.high': 0,\n",
    "    'security_report_summary.medium': 0,\n",
    "    'security_report_summary.low': 0,\n",
    "    'security_report_summary.unknown': 0\n",
    "})\n",
    "print(f\"Packages with no vulnerabilities in any category: {packages_with_no_vulnerabilities_count}\")\n",
    "\n"
   ]
  },
  {
   "cell_type": "code",
   "execution_count": 5,
   "id": "0c2c8da2",
   "metadata": {},
   "outputs": [
    {
     "name": "stdout",
     "output_type": "stream",
     "text": [
      "Packages with minimum one critical vulnerabilities: 5714\n"
     ]
    }
   ],
   "source": [
    "#Wie viele haben mindestens eine critical Schwachstelle?\n",
    "packages_with_critical_vulnerability_count = db.packages.count_documents({\n",
    "    'security_report_summary.critical': {'$gt': 0}\n",
    "})\n",
    "print(f\"Packages with minimum one critical vulnerabilities: {packages_with_critical_vulnerability_count}\")"
   ]
  },
  {
   "cell_type": "code",
   "execution_count": 6,
   "id": "9d067dcf",
   "metadata": {},
   "outputs": [
    {
     "name": "stdout",
     "output_type": "stream",
     "text": [
      "Total vulnerabilities across all packages: 4401069\n"
     ]
    }
   ],
   "source": [
    "# Wie viele Schwachstellen gibt es insgesamt?\n",
    "total_vulnerabilities_count = db.packages.aggregate([\n",
    "    {\n",
    "        '$group': {\n",
    "            '_id': None,\n",
    "            'total': {\n",
    "                '$sum': {\n",
    "                    '$add': [\n",
    "                        {'$ifNull': ['$security_report_summary.critical', 0]},\n",
    "                        {'$ifNull': ['$security_report_summary.high', 0]},\n",
    "                        {'$ifNull': ['$security_report_summary.medium', 0]},\n",
    "                        {'$ifNull': ['$security_report_summary.low', 0]},\n",
    "                        {'$ifNull': ['$security_report_summary.unknown', 0]}\n",
    "                    ]\n",
    "                }\n",
    "            }\n",
    "        }\n",
    "    }\n",
    "])\n",
    "total_vulnerabilities = list(total_vulnerabilities_count)\n",
    "if total_vulnerabilities:\n",
    "    print(f\"Total vulnerabilities across all packages: {total_vulnerabilities[0]['total']}\")\n",
    "else:\n",
    "    print(\"Total vulnerabilities across all packages: 0\")"
   ]
  },
  {
   "cell_type": "code",
   "execution_count": 5,
   "id": "861c6748",
   "metadata": {},
   "outputs": [
    {
     "name": "stdout",
     "output_type": "stream",
     "text": [
      "Counts list length:  [{'_id': None, 'total_critical': 136604, 'total_high': 850906, 'total_medium': 2120306, 'total_low': 1263082, 'total_unknown': 30171}]\n",
      "Total Critical Vulnerabilities: 136604\n",
      "Total High Vulnerabilities: 850906\n",
      "Total Medium Vulnerabilities: 2120306\n",
      "Total Low Vulnerabilities: 1263082\n",
      "Total Unknown Vulnerabilities: 30171\n",
      "Total Vulnerabilities: 4401069\n"
     ]
    }
   ],
   "source": [
    "# Berechnung der Schwachstellenanzahl pro Kategorie\n",
    "vulnerability_counts = db.packages.aggregate([\n",
    "    {\n",
    "        '$group': {\n",
    "            '_id': None,\n",
    "            'total_critical': {'$sum': '$security_report_summary.critical'},\n",
    "            'total_high': {'$sum': '$security_report_summary.high'},\n",
    "            'total_medium': {'$sum': '$security_report_summary.medium'},\n",
    "            'total_low': {'$sum': '$security_report_summary.low'},\n",
    "            'total_unknown': {'$sum': '$security_report_summary.unknown'}\n",
    "        }\n",
    "    }\n",
    "])\n",
    "\n",
    "counts = list(vulnerability_counts)\n",
    "print(\"Counts list length: \", counts)\n",
    "\n",
    "if counts:\n",
    "    critical_count = counts[0].get('total_critical', 0)\n",
    "    high_count = counts[0].get('total_high', 0)\n",
    "    medium_count = counts[0].get('total_medium', 0)\n",
    "    low_count = counts[0].get('total_low', 0)\n",
    "    unknown_count = counts[0].get('total_unknown', 0)\n",
    "else:\n",
    "    critical_count = high_count = medium_count = low_count = unknown_count = 0\n",
    "\n",
    "print(f\"Total Critical Vulnerabilities: {critical_count}\")\n",
    "print(f\"Total High Vulnerabilities: {high_count}\")\n",
    "print(f\"Total Medium Vulnerabilities: {medium_count}\")\n",
    "print(f\"Total Low Vulnerabilities: {low_count}\")\n",
    "print(f\"Total Unknown Vulnerabilities: {unknown_count}\")\n",
    "print(f\"Total Vulnerabilities: {critical_count + high_count + medium_count + low_count + unknown_count}\")"
   ]
  },
  {
   "cell_type": "code",
   "execution_count": 20,
   "id": "5e4df1b2",
   "metadata": {},
   "outputs": [
    {
     "name": "stdout",
     "output_type": "stream",
     "text": [
      "Top 20 most common vulnerabilities:\n",
      "CVE-2022-0563: 29727 occurrences\n",
      "CVE-2022-29458: 12677 occurrences\n",
      "CVE-2023-4039: 12595 occurrences\n",
      "CVE-2018-5709: 12588 occurrences\n",
      "CVE-2023-50495: 12199 occurrences\n",
      "CVE-2021-37600: 12011 occurrences\n",
      "CVE-2022-3219: 11746 occurrences\n",
      "CVE-2024-22365: 10651 occurrences\n",
      "CVE-2019-1010022: 9957 occurrences\n",
      "CVE-2010-4756: 9931 occurrences\n",
      "CVE-2018-20796: 9931 occurrences\n",
      "CVE-2019-1010023: 9931 occurrences\n",
      "CVE-2019-1010024: 9931 occurrences\n",
      "CVE-2019-1010025: 9931 occurrences\n",
      "CVE-2019-9192: 9931 occurrences\n",
      "CVE-2024-28085: 9793 occurrences\n",
      "CVE-2024-26458: 9601 occurrences\n",
      "CVE-2024-26461: 9601 occurrences\n",
      "CVE-2022-27943: 9562 occurrences\n",
      "CVE-2022-1304: 9547 occurrences\n"
     ]
    }
   ],
   "source": [
    "vulnerability_id_counts = {}\n",
    "\n",
    "for report_doc in db.reports.find({}):\n",
    "    for key in report_doc:\n",
    "        if key == '_id':\n",
    "            continue\n",
    "        \n",
    "        image_data = report_doc[key]\n",
    "        \n",
    "        if isinstance(image_data, dict) and \"Results\" in image_data:\n",
    "            results_list = image_data.get(\"Results\", [])\n",
    "            \n",
    "            if not isinstance(results_list, list):\n",
    "                continue\n",
    "\n",
    "            for result_item in results_list:\n",
    "                if isinstance(result_item, dict) and \"Vulnerabilities\" in result_item:\n",
    "                    vulnerabilities_list = result_item.get(\"Vulnerabilities\", [])\n",
    "\n",
    "                    if not isinstance(vulnerabilities_list, list):\n",
    "                        continue\n",
    "                        \n",
    "                    for vulnerability in vulnerabilities_list:\n",
    "                        if isinstance(vulnerability, dict):\n",
    "                            vulnerability_id = vulnerability.get(\"VulnerabilityID\")\n",
    "                            if vulnerability_id:\n",
    "                                if vulnerability_id in vulnerability_id_counts:\n",
    "                                    vulnerability_id_counts[vulnerability_id] += 1\n",
    "                                else:\n",
    "                                    vulnerability_id_counts[vulnerability_id] = 1\n",
    "\n",
    "\n",
    "\n",
    "# Top 20 häufigste Schwachstellen ausgeben\n",
    "top_20_vulnerabilities = sorted(vulnerability_id_counts.items(), key=lambda x: x[1], reverse=True)[:20]\n",
    "print(\"Top 20 most common vulnerabilities:\")\n",
    "for vuln_id, count in top_20_vulnerabilities:\n",
    "    print(f\"{vuln_id}: {count} occurrences\")\n",
    "\n"
   ]
  },
  {
   "cell_type": "code",
   "execution_count": 2,
   "id": "85741793",
   "metadata": {},
   "outputs": [
    {
     "name": "stdout",
     "output_type": "stream",
     "text": [
      "Anzahl an Helm Charts: 7970\n",
      "Durchschnittliche Anzahl an Schwachstellen pro Helm Chart: 552.20\n",
      "Median Anzahl an Schwachstellen pro Helm Chart: 134.00\n",
      "Standardabweichung Anzahl an Schwachstellen pro Helm Chart: 1333.87\n"
     ]
    },
    {
     "data": {
      "image/png": "[encoded data removed]",
      "text/plain": [
       "<Figure size 1200x600 with 1 Axes>"
      ]
     },
     "metadata": {},
     "output_type": "display_data"
    },
    {
     "data": {
      "image/png": "[encoded data removed]",
      "text/plain": [
       "<Figure size 640x480 with 1 Axes>"
      ]
     },
     "metadata": {},
     "output_type": "display_data"
    }
   ],
   "source": [
    "# Durchschnitt und Median pro Helm Chart + Verteilung\n",
    "from statistics import median, mean, stdev\n",
    "\n",
    "chart_list = {}\n",
    "\n",
    "for package in db.packages.find():\n",
    "    if \"security_report_summary\" in package and package['security_report_summary']:\n",
    "        total_vulnerabilities = 0\n",
    "        for severity in package['security_report_summary'].values():\n",
    "            total_vulnerabilities += severity\n",
    "        \n",
    "        chart_list[package['package_id']] = total_vulnerabilities\n",
    "\n",
    "chart_values = list(chart_list.values())\n",
    "\n",
    "chart_mean = mean(chart_values) if chart_values else 0\n",
    "chart_median = median(chart_values) if chart_values else 0\n",
    "chart_stdev = stdev(chart_values) if chart_values else 0\n",
    "\n",
    "print(f\"Anzahl an Helm Charts: {len(chart_list)}\")\n",
    "print(f\"Durchschnittliche Anzahl an Schwachstellen pro Helm Chart: {chart_mean:.2f}\")\n",
    "print(f\"Median Anzahl an Schwachstellen pro Helm Chart: {chart_median:.2f}\")\n",
    "print(f\"Standardabweichung Anzahl an Schwachstellen pro Helm Chart: {chart_stdev:.2f}\")\n",
    "\n",
    "import matplotlib.pyplot as plt\n",
    "from collections import defaultdict\n",
    "\n",
    "groups = defaultdict(int)\n",
    "\n",
    "for chart, count in chart_list.items():\n",
    "    if count >= 800:\n",
    "        label = \">800\"\n",
    "    else:\n",
    "        start = (count // 50) * 50\n",
    "        end = start + 49\n",
    "        label = f\"{start}-{end}\"\n",
    "    groups[label] += 1\n",
    "\n",
    "def sort_key(label):\n",
    "    if label == \">800\":\n",
    "        return 10000\n",
    "    return int(label.split(\"-\")[0])\n",
    "\n",
    "labels = sorted(groups.keys(), key=sort_key)\n",
    "values = [groups[label] for label in labels]\n",
    "\n",
    "plt.figure(figsize=(12, 6))\n",
    "plt.bar(labels, values, color=\"mediumseagreen\")\n",
    "plt.xlabel(\"Schwachstellen pro Helm Chart\", fontsize=18)\n",
    "plt.ylabel(\"Anzahl an Helm Charts\", fontsize=18)\n",
    "plt.title(\"Verteilung der Schwachstellen in Helm Charts\", fontsize=18)\n",
    "plt.grid(axis='y', linestyle='--', alpha=0.6)\n",
    "plt.xticks(rotation=45)\n",
    "plt.tight_layout()\n",
    "plt.show()\n",
    "\n",
    "\n",
    "import matplotlib.pyplot as plt\n",
    "\n",
    "plt.boxplot(values, vert=False, showfliers=True)\n",
    "plt.title(\"Boxplot der Schwachstellen\")\n",
    "plt.xlabel(\"Anzahl an Schwachstellen\")\n",
    "plt.grid(True)\n",
    "plt.show()"
   ]
  },
  {
   "cell_type": "code",
   "execution_count": 2,
   "id": "e9937115",
   "metadata": {},
   "outputs": [
    {
     "name": "stdout",
     "output_type": "stream",
     "text": [
      "Total number of images: 13212\n",
      "Total number of unique images: 13212\n"
     ]
    }
   ],
   "source": [
    "# Wie viele Images gibt es insgesamt?\n",
    "\n",
    "image_counter = 0\n",
    "images = []\n",
    "\n",
    "for report_doc in db.reports.find({}):\n",
    "    for key in report_doc.keys():\n",
    "        if key == '_id':\n",
    "            continue\n",
    "        image_counter += 1\n",
    "        images.append(key)\n",
    "\n",
    "print(f\"Total number of images: {image_counter}\")\n",
    "print(f\"Total number of unique images: {len(images)}\")        \n"
   ]
  },
  {
   "cell_type": "code",
   "execution_count": 10,
   "id": "dc268e1f",
   "metadata": {},
   "outputs": [
    {
     "name": "stdout",
     "output_type": "stream",
     "text": [
      "Anzahl der Helm Charts mit der Schwachstelle CVE-2022-0563: 2621\n",
      "Anzahl der Helm Charts mit der Schwachstelle CVE-2022-29458: 2163\n",
      "Anzahl der Helm Charts mit der Schwachstelle CVE-2023-4039: 1948\n",
      "Anzahl der Helm Charts mit der Schwachstelle CVE-2018-5709: 2024\n",
      "Anzahl der Helm Charts mit der Schwachstelle CVE-2023-50495: 2161\n",
      "Anzahl der Helm Charts mit der Schwachstelle CVE-2021-37600: 1103\n",
      "Anzahl der Helm Charts mit der Schwachstelle CVE-2022-3219: 3006\n",
      "Anzahl der Helm Charts mit der Schwachstelle CVE-2024-22365: 1855\n",
      "Anzahl der Helm Charts mit der Schwachstelle CVE-2019-1010022: 2638\n",
      "Anzahl der Helm Charts mit der Schwachstelle CVE-2010-4756: 2632\n"
     ]
    }
   ],
   "source": [
    "# Wie viel Prozent der Helm Charts betrifft eine bestimmte Schwachstelle?\n",
    "\n",
    "def count_helm_charts_with_vulnerability(vulnerability_id):\n",
    "    helm_chart_counter = 0\n",
    "    for report in db.reports.find({}):\n",
    "        helm_chart_counter += find_vulnerability_in_report(vulnerability_id, report)\n",
    "    return helm_chart_counter\n",
    "\n",
    "def find_vulnerability_in_report(vulnerability_id,report_doc):\n",
    "    for report in report_doc:\n",
    "        if report == '_id':\n",
    "            continue\n",
    "        if \"Results\" in report_doc[report]:\n",
    "                for image in report_doc[report][\"Results\"]:\n",
    "                    if \"Vulnerabilities\" in image:\n",
    "                        for vulnerability in image[\"Vulnerabilities\"]:\n",
    "                            if \"VulnerabilityID\" in vulnerability and vulnerability[\"VulnerabilityID\"] == vulnerability_id:\n",
    "                                return 1\n",
    "    return 0\n",
    "\n",
    "vulnerability_id_1 = \"CVE-2022-0563\"\n",
    "vulnerability_id_2 = \"CVE-2022-29458\"\n",
    "vulnerability_id_3 = \"CVE-2023-4039\"\n",
    "vulnerability_id_4 = \"CVE-2018-5709\"\n",
    "vulnerability_id_5 = \"CVE-2023-50495\"\n",
    "vulnerability_id_6 = \"CVE-2021-37600\"\n",
    "vulnerability_id_7 = \"CVE-2022-3219\"\n",
    "vulnerability_id_8 = \"CVE-2024-22365\"\n",
    "vulnerability_id_9 = \"CVE-2019-1010022\"\n",
    "vulnerability_id_10 = \"CVE-2010-4756\"\n",
    "\n",
    "\n",
    "\n",
    "helm_charts_with_vulnerability_1 = count_helm_charts_with_vulnerability(vulnerability_id_1)\n",
    "helm_charts_with_vulnerability_2 = count_helm_charts_with_vulnerability(vulnerability_id_2)\n",
    "helm_charts_with_vulnerability_3 = count_helm_charts_with_vulnerability(vulnerability_id_3)\n",
    "helm_charts_with_vulnerability_4 = count_helm_charts_with_vulnerability(vulnerability_id_4)\n",
    "helm_charts_with_vulnerability_5 = count_helm_charts_with_vulnerability(vulnerability_id_5)\n",
    "helm_charts_with_vulnerability_6 = count_helm_charts_with_vulnerability(vulnerability_id_6)\n",
    "helm_charts_with_vulnerability_7 = count_helm_charts_with_vulnerability(vulnerability_id_7)\n",
    "helm_charts_with_vulnerability_8 = count_helm_charts_with_vulnerability(vulnerability_id_8)\n",
    "helm_charts_with_vulnerability_9 = count_helm_charts_with_vulnerability(vulnerability_id_9)\n",
    "helm_charts_with_vulnerability_10 = count_helm_charts_with_vulnerability(vulnerability_id_10)\n",
    "\n",
    "\n",
    "print(f\"Anzahl der Helm Charts mit der Schwachstelle {vulnerability_id_1}: {helm_charts_with_vulnerability_1}\")\n",
    "print(f\"Anzahl der Helm Charts mit der Schwachstelle {vulnerability_id_2}: {helm_charts_with_vulnerability_2}\")\n",
    "print(f\"Anzahl der Helm Charts mit der Schwachstelle {vulnerability_id_3}: {helm_charts_with_vulnerability_3}\")\n",
    "print(f\"Anzahl der Helm Charts mit der Schwachstelle {vulnerability_id_4}: {helm_charts_with_vulnerability_4}\")\n",
    "print(f\"Anzahl der Helm Charts mit der Schwachstelle {vulnerability_id_5}: {helm_charts_with_vulnerability_5}\")\n",
    "print(f\"Anzahl der Helm Charts mit der Schwachstelle {vulnerability_id_6}: {helm_charts_with_vulnerability_6}\")\n",
    "print(f\"Anzahl der Helm Charts mit der Schwachstelle {vulnerability_id_7}: {helm_charts_with_vulnerability_7}\")\n",
    "print(f\"Anzahl der Helm Charts mit der Schwachstelle {vulnerability_id_8}: {helm_charts_with_vulnerability_8}\")\n",
    "print(f\"Anzahl der Helm Charts mit der Schwachstelle {vulnerability_id_9}: {helm_charts_with_vulnerability_9}\")\n",
    "print(f\"Anzahl der Helm Charts mit der Schwachstelle {vulnerability_id_10}: {helm_charts_with_vulnerability_10}\")"
   ]
  }
 ],
 "metadata": {
  "kernelspec": {
   "display_name": "Python 3",
   "language": "python",
   "name": "python3"
  },
  "language_info": {
   "codemirror_mode": {
    "name": "ipython",
    "version": 3
   },
   "file_extension": ".py",
   "mimetype": "text/x-python",
   "name": "python",
   "nbconvert_exporter": "python",
   "pygments_lexer": "ipython3",
   "version": "3.12.3"
  }
 },
 "nbformat": 4,
 "nbformat_minor": 5
}
